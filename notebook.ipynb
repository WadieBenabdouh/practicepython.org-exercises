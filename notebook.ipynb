{
 "cells": [
  {
   "cell_type": "markdown",
   "metadata": {},
   "source": [
    "# Practice Python Website with Exercises."
   ]
  },
  {
   "cell_type": "markdown",
   "metadata": {},
   "source": [
    "## <u>Exercise 1</u>\n",
    "## You will learn :\n",
    "- Getting user input.\n",
    "- Manipulating strings.\n",
    "- Working with Python dates from datetime module."
   ]
  },
  {
   "cell_type": "code",
   "execution_count": null,
   "metadata": {},
   "outputs": [],
   "source": [
    "from datetime import datetime\n",
    "\n",
    "user_name = input(\"Enter your name: \")\n",
    "while len(user_name) < 3:\n",
    "    print(\"Please enter your full name.\")\n",
    "    user_name = input(\"Enter your name: \")\n",
    "\n",
    "user_age = int(input(\"Enter your age: \"))\n",
    "\n",
    "agePreview = 100 - user_age\n",
    "currentYear = datetime.now().year \n",
    "specificYear = agePreview + currentYear\n",
    "print(f'The year when you will be 100 years old is {specificYear}')"
   ]
  },
  {
   "cell_type": "markdown",
   "metadata": {},
   "source": [
    "## <u>Exercise 2</u>\n",
    "## You will learn :\n",
    "- Modular arithmetic (the modulus operator)\n",
    "- Conditionals (if statements)"
   ]
  },
  {
   "cell_type": "code",
   "execution_count": null,
   "metadata": {},
   "outputs": [],
   "source": [
    "# PART 1\n",
    "user_number = int(input(\"Please choose a number : \"))\n",
    "if user_number % 2 == 0:\n",
    "    print(\"You entered an even number \")\n",
    "else:\n",
    "    print(\"You entered an odd number \")\n",
    "  \n",
    "# PART 2  \n",
    "num = int(input(\"Number to check: \"))\n",
    "check = int(input(\"Number to divide by: \"))\n",
    "\n",
    "if check % num == 0:\n",
    "    print(\"You entered an even number \")\n",
    "else: \n",
    "    print(\"You entered an odd number \")"
   ]
  },
  {
   "cell_type": "markdown",
   "metadata": {},
   "source": [
    "## <u>Exercise 3</u>\n",
    "## You will learn :\n",
    "- Lists\n",
    "- More conditionals (if statements)\n",
    "- For loops\n",
    "- .append()"
   ]
  },
  {
   "cell_type": "code",
   "execution_count": 1,
   "metadata": {},
   "outputs": [],
   "source": [
    "# PART 1\n",
    "a = [1, 1, 2, 3, 5, 8, 13, 21, 34, 55, 89]\n",
    "numbers_less_than_five = []\n",
    "\n",
    "for number in a:\n",
    "    if number < 5:\n",
    "        numbers_less_than_five.append(number)\n",
    "print(numbers_less_than_five)\n",
    "\n",
    "# PART 2\n",
    "a = [1, 1, 2, 3, 5, 8, 13, 21, 34, 55, 89]\n",
    "user_number = int(input(\"Enter a number : \"))\n",
    "\n",
    "filtered_list = []\n",
    "for x in a :\n",
    "    if user_number > x:\n",
    "        filtered_list.append(x)\n",
    "print(filtered_list)\n",
    "# well done, been listening to Vitas 7th Element and figured it out."
   ]
  },
  {
   "cell_type": "markdown",
   "metadata": {},
   "source": [
    "## <u>Exercise 4</u>\n",
    "## You will learn :\n",
    "- combine lists, conditionals, and user input "
   ]
  },
  {
   "cell_type": "code",
   "execution_count": null,
   "metadata": {},
   "outputs": [],
   "source": [
    "user_number = int(input(\"Enter a number: \"))\n",
    "rawList = list(range(1, 201))\n",
    "divisors_of_user_number = []\n",
    "\n",
    "for number in rawList:\n",
    "    if user_number % number == 0:\n",
    "        divisors_of_user_number.append(number)\n",
    "print(divisors_of_user_number)"
   ]
  },
  {
   "cell_type": "markdown",
   "metadata": {},
   "source": [
    "## <u>Exercise 5</u>\n",
    "## You will learn :\n",
    "-  a program that returns a list that contains only the elements that are common between the lists (without duplicates)."
   ]
  },
  {
   "cell_type": "code",
   "execution_count": null,
   "metadata": {},
   "outputs": [],
   "source": [
    "a = [1, 1, 2, 3, 5, 8, 13, 21, 34, 55, 89]\n",
    "b = [1, 2, 3, 4, 5, 6, 7, 8, 9, 10, 11, 12, 13]\n",
    "\n",
    "common_list_container = []\n",
    "\n",
    "for number_list1 in a:\n",
    "    for number_list2 in b:\n",
    "        if number_list1 == number_list2:\n",
    "            duo = number_list1, number_list2\n",
    "            for x in duo:\n",
    "                common_list_container.append(x)\n",
    "                \n",
    "print(list(set(common_list_container)))\n",
    "\n"
   ]
  }
 ],
 "metadata": {
  "kernelspec": {
   "display_name": "Python 3",
   "language": "python",
   "name": "python3"
  },
  "language_info": {
   "codemirror_mode": {
    "name": "ipython",
    "version": 3
   },
   "file_extension": ".py",
   "mimetype": "text/x-python",
   "name": "python",
   "nbconvert_exporter": "python",
   "pygments_lexer": "ipython3",
   "version": "3.12.2"
  }
 },
 "nbformat": 4,
 "nbformat_minor": 2
}
